{
  "nbformat": 4,
  "nbformat_minor": 0,
  "metadata": {
    "colab": {
      "provenance": [],
      "collapsed_sections": [
        "88U_v2A6tLTi",
        "_FGDFO4d-Iz9"
      ],
      "gpuType": "T4"
    },
    "kernelspec": {
      "name": "python3",
      "display_name": "Python 3"
    },
    "language_info": {
      "name": "python"
    },
    "accelerator": "GPU"
  },
  "cells": [
    {
      "cell_type": "code",
      "source": [
        "!unzip drive/MyDrive/nlp_bootcamp/hse-2nd-step-in-nlp-bootcamp.zip"
      ],
      "metadata": {
        "colab": {
          "base_uri": "https://localhost:8080/"
        },
        "id": "rQ2HoGZXn_lh",
        "outputId": "4896f2f1-c1c5-4db0-90d5-377664babc11"
      },
      "execution_count": 1,
      "outputs": [
        {
          "output_type": "stream",
          "name": "stdout",
          "text": [
            "Archive:  drive/MyDrive/nlp_bootcamp/hse-2nd-step-in-nlp-bootcamp.zip\n",
            "  inflating: sample_submission.csv   \n",
            "  inflating: vacancies_test.csv      \n",
            "  inflating: vacancies_train.csv     \n"
          ]
        }
      ]
    },
    {
      "cell_type": "code",
      "source": [
        "!cp drive/MyDrive/nlp_bootcamp/vacancies_train_cleaned.csv ."
      ],
      "metadata": {
        "id": "R0MiUoNyyB87"
      },
      "execution_count": 2,
      "outputs": []
    },
    {
      "cell_type": "markdown",
      "source": [
        "# Импорт библиотек"
      ],
      "metadata": {
        "id": "7Bo2shRLtw2P"
      }
    },
    {
      "cell_type": "code",
      "execution_count": 3,
      "metadata": {
        "id": "WvH9HFM5ndZC"
      },
      "outputs": [],
      "source": [
        "import os\n",
        "import string\n",
        "import re\n",
        "\n",
        "import pandas as pd\n",
        "import numpy as np\n",
        "\n",
        "import matplotlib.pyplot as plt\n",
        "import seaborn as sns"
      ]
    },
    {
      "cell_type": "code",
      "source": [
        "import torch\n",
        "import nltk\n",
        "nltk.download('punkt')\n",
        "nltk.download('stopwords')\n",
        "nltk.download('wordnet')\n",
        "\n",
        "from nltk.tokenize import word_tokenize\n",
        "from nltk.corpus import stopwords\n",
        "from nltk.stem import WordNetLemmatizer\n",
        "from nltk.corpus import wordnet\n",
        "from nltk.tokenize import sent_tokenize\n",
        "\n",
        "from sklearn.feature_extraction.text import TfidfVectorizer"
      ],
      "metadata": {
        "colab": {
          "base_uri": "https://localhost:8080/"
        },
        "id": "8IF_NGjXtmzP",
        "outputId": "be45996a-1453-4e46-a5f8-4eae8937f357"
      },
      "execution_count": 4,
      "outputs": [
        {
          "output_type": "stream",
          "name": "stderr",
          "text": [
            "[nltk_data] Downloading package punkt to /root/nltk_data...\n",
            "[nltk_data]   Unzipping tokenizers/punkt.zip.\n",
            "[nltk_data] Downloading package stopwords to /root/nltk_data...\n",
            "[nltk_data]   Unzipping corpora/stopwords.zip.\n",
            "[nltk_data] Downloading package wordnet to /root/nltk_data...\n"
          ]
        }
      ]
    },
    {
      "cell_type": "code",
      "source": [
        "df_train = pd.read_csv('vacancies_train_cleaned.csv')\n",
        "df_train.head()"
      ],
      "metadata": {
        "colab": {
          "base_uri": "https://localhost:8080/",
          "height": 389
        },
        "id": "CNyiszhMoJli",
        "outputId": "4223ba9f-2b53-40e4-be26-6a8d8587c5e5"
      },
      "execution_count": 5,
      "outputs": [
        {
          "output_type": "execute_result",
          "data": {
            "text/plain": [
              "                                                name          experience  \\\n",
              "0                                Водитель-экспедитор       От 3 до 6 лет   \n",
              "1                Кладовщик-комплектовщик/оператор 1С  От 1 года до 3 лет   \n",
              "2  Продавец магазина \"Магнит\" (Кировский р-он, В....           Нет опыта   \n",
              "3                   Администратор магазина (ТЦ Spar)  От 1 года до 3 лет   \n",
              "4                          Мойщик посуды (кулинария)           Нет опыта   \n",
              "\n",
              "         schedule        employment  \\\n",
              "0     Полный день  Полная занятость   \n",
              "1     Полный день  Полная занятость   \n",
              "2  Сменный график  Полная занятость   \n",
              "3     Полный день  Полная занятость   \n",
              "4  Сменный график  Полная занятость   \n",
              "\n",
              "                                         description  \\\n",
              "0  Водитель-экспедитор категории В,С (а\\м ГАЗЕЛЬ ...   \n",
              "1  Обязанности:   Списывание материалов в произво...   \n",
              "2  В крупнейшую Федеральную сеть магазинов \"Магни...   \n",
              "3  Крупная федеральная сеть магазинов мужской и ж...   \n",
              "4  Обязанности:  Уборка производственных площадей...   \n",
              "\n",
              "                                          key_skills   salary  \\\n",
              "0                                                 []  42500.0   \n",
              "1  ['знание пк', 'работа в 1С', 'Работа в команде...  50000.0   \n",
              "2                                                 []  31500.0   \n",
              "3                                                 []  36700.0   \n",
              "4  ['Пользователь ПК', 'Грамотная речь', 'Работа ...  37000.0   \n",
              "\n",
              "                                   clean_description  \n",
              "0  водительэкспедитор категории вс ам газель тент...  \n",
              "1  обязанности списывание материалов производство...  \n",
              "2  крупнейшую федеральную сеть магазинов магнит т...  \n",
              "3  крупная федеральная сеть магазинов мужской жен...  \n",
              "4  обязанности уборка производственных площадей к...  "
            ],
            "text/html": [
              "\n",
              "  <div id=\"df-88f6d30d-b55a-4faa-8b60-23b8d7c1616b\">\n",
              "    <div class=\"colab-df-container\">\n",
              "      <div>\n",
              "<style scoped>\n",
              "    .dataframe tbody tr th:only-of-type {\n",
              "        vertical-align: middle;\n",
              "    }\n",
              "\n",
              "    .dataframe tbody tr th {\n",
              "        vertical-align: top;\n",
              "    }\n",
              "\n",
              "    .dataframe thead th {\n",
              "        text-align: right;\n",
              "    }\n",
              "</style>\n",
              "<table border=\"1\" class=\"dataframe\">\n",
              "  <thead>\n",
              "    <tr style=\"text-align: right;\">\n",
              "      <th></th>\n",
              "      <th>name</th>\n",
              "      <th>experience</th>\n",
              "      <th>schedule</th>\n",
              "      <th>employment</th>\n",
              "      <th>description</th>\n",
              "      <th>key_skills</th>\n",
              "      <th>salary</th>\n",
              "      <th>clean_description</th>\n",
              "    </tr>\n",
              "  </thead>\n",
              "  <tbody>\n",
              "    <tr>\n",
              "      <th>0</th>\n",
              "      <td>Водитель-экспедитор</td>\n",
              "      <td>От 3 до 6 лет</td>\n",
              "      <td>Полный день</td>\n",
              "      <td>Полная занятость</td>\n",
              "      <td>Водитель-экспедитор категории В,С (а\\м ГАЗЕЛЬ ...</td>\n",
              "      <td>[]</td>\n",
              "      <td>42500.0</td>\n",
              "      <td>водительэкспедитор категории вс ам газель тент...</td>\n",
              "    </tr>\n",
              "    <tr>\n",
              "      <th>1</th>\n",
              "      <td>Кладовщик-комплектовщик/оператор 1С</td>\n",
              "      <td>От 1 года до 3 лет</td>\n",
              "      <td>Полный день</td>\n",
              "      <td>Полная занятость</td>\n",
              "      <td>Обязанности:   Списывание материалов в произво...</td>\n",
              "      <td>['знание пк', 'работа в 1С', 'Работа в команде...</td>\n",
              "      <td>50000.0</td>\n",
              "      <td>обязанности списывание материалов производство...</td>\n",
              "    </tr>\n",
              "    <tr>\n",
              "      <th>2</th>\n",
              "      <td>Продавец магазина \"Магнит\" (Кировский р-он, В....</td>\n",
              "      <td>Нет опыта</td>\n",
              "      <td>Сменный график</td>\n",
              "      <td>Полная занятость</td>\n",
              "      <td>В крупнейшую Федеральную сеть магазинов \"Магни...</td>\n",
              "      <td>[]</td>\n",
              "      <td>31500.0</td>\n",
              "      <td>крупнейшую федеральную сеть магазинов магнит т...</td>\n",
              "    </tr>\n",
              "    <tr>\n",
              "      <th>3</th>\n",
              "      <td>Администратор магазина (ТЦ Spar)</td>\n",
              "      <td>От 1 года до 3 лет</td>\n",
              "      <td>Полный день</td>\n",
              "      <td>Полная занятость</td>\n",
              "      <td>Крупная федеральная сеть магазинов мужской и ж...</td>\n",
              "      <td>[]</td>\n",
              "      <td>36700.0</td>\n",
              "      <td>крупная федеральная сеть магазинов мужской жен...</td>\n",
              "    </tr>\n",
              "    <tr>\n",
              "      <th>4</th>\n",
              "      <td>Мойщик посуды (кулинария)</td>\n",
              "      <td>Нет опыта</td>\n",
              "      <td>Сменный график</td>\n",
              "      <td>Полная занятость</td>\n",
              "      <td>Обязанности:  Уборка производственных площадей...</td>\n",
              "      <td>['Пользователь ПК', 'Грамотная речь', 'Работа ...</td>\n",
              "      <td>37000.0</td>\n",
              "      <td>обязанности уборка производственных площадей к...</td>\n",
              "    </tr>\n",
              "  </tbody>\n",
              "</table>\n",
              "</div>\n",
              "      <button class=\"colab-df-convert\" onclick=\"convertToInteractive('df-88f6d30d-b55a-4faa-8b60-23b8d7c1616b')\"\n",
              "              title=\"Convert this dataframe to an interactive table.\"\n",
              "              style=\"display:none;\">\n",
              "        \n",
              "  <svg xmlns=\"http://www.w3.org/2000/svg\" height=\"24px\"viewBox=\"0 0 24 24\"\n",
              "       width=\"24px\">\n",
              "    <path d=\"M0 0h24v24H0V0z\" fill=\"none\"/>\n",
              "    <path d=\"M18.56 5.44l.94 2.06.94-2.06 2.06-.94-2.06-.94-.94-2.06-.94 2.06-2.06.94zm-11 1L8.5 8.5l.94-2.06 2.06-.94-2.06-.94L8.5 2.5l-.94 2.06-2.06.94zm10 10l.94 2.06.94-2.06 2.06-.94-2.06-.94-.94-2.06-.94 2.06-2.06.94z\"/><path d=\"M17.41 7.96l-1.37-1.37c-.4-.4-.92-.59-1.43-.59-.52 0-1.04.2-1.43.59L10.3 9.45l-7.72 7.72c-.78.78-.78 2.05 0 2.83L4 21.41c.39.39.9.59 1.41.59.51 0 1.02-.2 1.41-.59l7.78-7.78 2.81-2.81c.8-.78.8-2.07 0-2.86zM5.41 20L4 18.59l7.72-7.72 1.47 1.35L5.41 20z\"/>\n",
              "  </svg>\n",
              "      </button>\n",
              "      \n",
              "  <style>\n",
              "    .colab-df-container {\n",
              "      display:flex;\n",
              "      flex-wrap:wrap;\n",
              "      gap: 12px;\n",
              "    }\n",
              "\n",
              "    .colab-df-convert {\n",
              "      background-color: #E8F0FE;\n",
              "      border: none;\n",
              "      border-radius: 50%;\n",
              "      cursor: pointer;\n",
              "      display: none;\n",
              "      fill: #1967D2;\n",
              "      height: 32px;\n",
              "      padding: 0 0 0 0;\n",
              "      width: 32px;\n",
              "    }\n",
              "\n",
              "    .colab-df-convert:hover {\n",
              "      background-color: #E2EBFA;\n",
              "      box-shadow: 0px 1px 2px rgba(60, 64, 67, 0.3), 0px 1px 3px 1px rgba(60, 64, 67, 0.15);\n",
              "      fill: #174EA6;\n",
              "    }\n",
              "\n",
              "    [theme=dark] .colab-df-convert {\n",
              "      background-color: #3B4455;\n",
              "      fill: #D2E3FC;\n",
              "    }\n",
              "\n",
              "    [theme=dark] .colab-df-convert:hover {\n",
              "      background-color: #434B5C;\n",
              "      box-shadow: 0px 1px 3px 1px rgba(0, 0, 0, 0.15);\n",
              "      filter: drop-shadow(0px 1px 2px rgba(0, 0, 0, 0.3));\n",
              "      fill: #FFFFFF;\n",
              "    }\n",
              "  </style>\n",
              "\n",
              "      <script>\n",
              "        const buttonEl =\n",
              "          document.querySelector('#df-88f6d30d-b55a-4faa-8b60-23b8d7c1616b button.colab-df-convert');\n",
              "        buttonEl.style.display =\n",
              "          google.colab.kernel.accessAllowed ? 'block' : 'none';\n",
              "\n",
              "        async function convertToInteractive(key) {\n",
              "          const element = document.querySelector('#df-88f6d30d-b55a-4faa-8b60-23b8d7c1616b');\n",
              "          const dataTable =\n",
              "            await google.colab.kernel.invokeFunction('convertToInteractive',\n",
              "                                                     [key], {});\n",
              "          if (!dataTable) return;\n",
              "\n",
              "          const docLinkHtml = 'Like what you see? Visit the ' +\n",
              "            '<a target=\"_blank\" href=https://colab.research.google.com/notebooks/data_table.ipynb>data table notebook</a>'\n",
              "            + ' to learn more about interactive tables.';\n",
              "          element.innerHTML = '';\n",
              "          dataTable['output_type'] = 'display_data';\n",
              "          await google.colab.output.renderOutput(dataTable, element);\n",
              "          const docLink = document.createElement('div');\n",
              "          docLink.innerHTML = docLinkHtml;\n",
              "          element.appendChild(docLink);\n",
              "        }\n",
              "      </script>\n",
              "    </div>\n",
              "  </div>\n",
              "  "
            ]
          },
          "metadata": {},
          "execution_count": 5
        }
      ]
    },
    {
      "cell_type": "markdown",
      "source": [
        "# EDA"
      ],
      "metadata": {
        "id": "EdiaTucOoZ28"
      }
    },
    {
      "cell_type": "code",
      "source": [
        "df_train.info()"
      ],
      "metadata": {
        "colab": {
          "base_uri": "https://localhost:8080/"
        },
        "id": "TstET1a-oQqh",
        "outputId": "96368e8e-e6a0-495e-a43c-4cffcda2219f"
      },
      "execution_count": null,
      "outputs": [
        {
          "output_type": "stream",
          "name": "stdout",
          "text": [
            "<class 'pandas.core.frame.DataFrame'>\n",
            "RangeIndex: 16629 entries, 0 to 16628\n",
            "Data columns (total 7 columns):\n",
            " #   Column       Non-Null Count  Dtype  \n",
            "---  ------       --------------  -----  \n",
            " 0   name         16629 non-null  object \n",
            " 1   experience   16629 non-null  object \n",
            " 2   schedule     16629 non-null  object \n",
            " 3   employment   16629 non-null  object \n",
            " 4   description  16629 non-null  object \n",
            " 5   key_skills   16629 non-null  object \n",
            " 6   salary       16629 non-null  float64\n",
            "dtypes: float64(1), object(6)\n",
            "memory usage: 909.5+ KB\n"
          ]
        }
      ]
    },
    {
      "cell_type": "code",
      "source": [
        "x = [x for x in range(len(df_train['experience'].unique()))]\n",
        "y = []\n",
        "for exp in df_train['experience'].unique():\n",
        "  print(f\"{exp}: {df_train[df_train['experience'] == exp]['experience'].count()}\")\n",
        "  y.append(df_train[df_train['experience'] == exp]['experience'].count())\n",
        "\n",
        "plt.figure(figsize=(10,6))\n",
        "plt.xlabel('experience')\n",
        "plt.bar(x, y, color='green', tick_label=df_train['experience'].unique())\n",
        "plt.show()"
      ],
      "metadata": {
        "colab": {
          "base_uri": "https://localhost:8080/",
          "height": 611
        },
        "id": "KqqY2eQSoRfH",
        "outputId": "8234b172-e621-4134-98c3-aef5212bb248"
      },
      "execution_count": null,
      "outputs": [
        {
          "output_type": "stream",
          "name": "stdout",
          "text": [
            "От 3 до 6 лет: 2236\n",
            "От 1 года до 3 лет: 6881\n",
            "Нет опыта: 7278\n",
            "Более 6 лет: 234\n"
          ]
        },
        {
          "output_type": "display_data",
          "data": {
            "text/plain": [
              "<Figure size 1000x600 with 1 Axes>"
            ],
            "image/png": "[encoded data removed]"
          },
          "metadata": {}
        }
      ]
    },
    {
      "cell_type": "code",
      "source": [
        "data_plt = df_train['schedule'].unique()\n",
        "x = [x for x in range(len(data_plt))]\n",
        "y = []\n",
        "for data in data_plt:\n",
        "  print(f\"{data}: {df_train[df_train['schedule'] == data]['schedule'].count()}\")\n",
        "  y.append(df_train[df_train['schedule'] == data]['schedule'].count())\n",
        "\n",
        "plt.figure(figsize=(10,6))\n",
        "plt.xlabel('schedule')\n",
        "plt.bar(x, y, color='blue', tick_label=data_plt)\n",
        "plt.show()"
      ],
      "metadata": {
        "colab": {
          "base_uri": "https://localhost:8080/",
          "height": 629
        },
        "id": "oAqVj_RoofpE",
        "outputId": "c92a2c50-450a-4bd7-a04a-0182548e4fd4"
      },
      "execution_count": null,
      "outputs": [
        {
          "output_type": "stream",
          "name": "stdout",
          "text": [
            "Полный день: 11424\n",
            "Сменный график: 2719\n",
            "Гибкий график: 687\n",
            "Вахтовый метод: 1160\n",
            "Удаленная работа: 639\n"
          ]
        },
        {
          "output_type": "display_data",
          "data": {
            "text/plain": [
              "<Figure size 1000x600 with 1 Axes>"
            ],
            "image/png": "[encoded data removed]"
          },
          "metadata": {}
        }
      ]
    },
    {
      "cell_type": "code",
      "source": [
        "data_plt = df_train['employment'].unique()\n",
        "x = [x for x in range(len(data_plt))]\n",
        "y = []\n",
        "for data in data_plt:\n",
        "  print(f\"{data}: {df_train[df_train['employment'] == data]['employment'].count()}\")\n",
        "  y.append(df_train[df_train['employment'] == data]['employment'].count())\n",
        "\n",
        "plt.figure(figsize=(10,6))\n",
        "plt.xlabel('employment')\n",
        "plt.bar(x, y, color='purple', tick_label=data_plt)\n",
        "plt.show()"
      ],
      "metadata": {
        "colab": {
          "base_uri": "https://localhost:8080/",
          "height": 611
        },
        "id": "H51IogrNoljX",
        "outputId": "3343b83f-0fc7-4a16-ee1a-6680ec528a0d"
      },
      "execution_count": null,
      "outputs": [
        {
          "output_type": "stream",
          "name": "stdout",
          "text": [
            "Полная занятость: 15723\n",
            "Частичная занятость: 803\n",
            "Проектная работа: 67\n",
            "Стажировка: 36\n"
          ]
        },
        {
          "output_type": "display_data",
          "data": {
            "text/plain": [
              "<Figure size 1000x600 with 1 Axes>"
            ],
            "image/png": "[encoded data removed]"
          },
          "metadata": {}
        }
      ]
    },
    {
      "cell_type": "code",
      "source": [
        "plt.figure(figsize=(10,6))\n",
        "plt.xlabel('salary')\n",
        "df_train['salary'].hist()\n",
        "plt.show()"
      ],
      "metadata": {
        "colab": {
          "base_uri": "https://localhost:8080/",
          "height": 542
        },
        "id": "aP6z9WdhuCGV",
        "outputId": "fb130383-d0be-4f5e-fddc-183f8f951a7d"
      },
      "execution_count": null,
      "outputs": [
        {
          "output_type": "display_data",
          "data": {
            "text/plain": [
              "<Figure size 1000x600 with 1 Axes>"
            ],
            "image/png": "[encoded data removed]"
          },
          "metadata": {}
        }
      ]
    },
    {
      "cell_type": "code",
      "source": [
        "print(f\"Количество уникальных названий вакансий - {len(df_train['name'].unique())}\")"
      ],
      "metadata": {
        "colab": {
          "base_uri": "https://localhost:8080/"
        },
        "id": "hwtjlr5EouaQ",
        "outputId": "27d6881f-877a-41a2-c322-719c73f931ce"
      },
      "execution_count": null,
      "outputs": [
        {
          "output_type": "stream",
          "name": "stdout",
          "text": [
            "Количество уникальных названий вакансий - 9915\n"
          ]
        }
      ]
    },
    {
      "cell_type": "markdown",
      "source": [
        "# Очистка текста"
      ],
      "metadata": {
        "id": "88U_v2A6tLTi"
      }
    },
    {
      "cell_type": "code",
      "source": [
        "def clean_text(text):\n",
        "    table = text.maketrans(dict.fromkeys(string.punctuation))\n",
        "    \n",
        "    words = word_tokenize(text.lower().strip().translate(table))\n",
        "    words = [word for word in words if word not in stopwords.words('russian')]\n",
        "    lemmed = [WordNetLemmatizer().lemmatize(word) for word in words]    \n",
        "    return \" \".join(lemmed)"
      ],
      "metadata": {
        "id": "egi2hDhbtPw8"
      },
      "execution_count": 6,
      "outputs": []
    },
    {
      "cell_type": "code",
      "source": [
        "df_train['text'] = df_train['name'] + ' ' + df_train['description'] + ' ' + df_train['key_skills']"
      ],
      "metadata": {
        "id": "hNCftpaO59vL"
      },
      "execution_count": null,
      "outputs": []
    },
    {
      "cell_type": "code",
      "source": [
        "df_train['clean_text'] = df_train['text'].apply(clean_text)\n",
        "df_train['clean_text']"
      ],
      "metadata": {
        "colab": {
          "base_uri": "https://localhost:8080/"
        },
        "id": "CnHpVCMht6lz",
        "outputId": "166b5663-d6db-440e-bc85-4212ac01ea28"
      },
      "execution_count": null,
      "outputs": [
        {
          "output_type": "execute_result",
          "data": {
            "text/plain": [
              "0        водительэкспедитор водительэкспедитор категори...\n",
              "1        кладовщиккомплектовщикоператор 1с обязанности ...\n",
              "2        продавец магазина магнит кировский рон уса кру...\n",
              "3        администратор магазина тц spar крупная федерал...\n",
              "4        мойщик посуды кулинария обязанности уборка про...\n",
              "                               ...                        \n",
              "16624    полицейский специального полка полиции обязанн...\n",
              "16625    врач стоматологортопед г новосибирск обязаннос...\n",
              "16626    фармацевт условия официальное оформление тк рф...\n",
              "16627    геодезист автодороги обязанности своевременное...\n",
              "16628    специалистэксперт отдела правового обеспечения...\n",
              "Name: clean_text, Length: 16629, dtype: object"
            ]
          },
          "metadata": {},
          "execution_count": 6
        }
      ]
    },
    {
      "cell_type": "code",
      "source": [
        "df_train.to_csv('vacancies_train_textcleaned.csv', index=False)"
      ],
      "metadata": {
        "id": "D1lpNSlSxe0k"
      },
      "execution_count": null,
      "outputs": []
    },
    {
      "cell_type": "markdown",
      "source": [
        "# Модель"
      ],
      "metadata": {
        "id": "pMhK4xUsTThG"
      }
    },
    {
      "cell_type": "code",
      "source": [
        "from sklearn.model_selection import train_test_split\n",
        "X = df_train.drop(['name', 'salary', 'key_skills', 'description'], axis=1)\n",
        "y = df_train['salary']\n",
        "\n",
        "Xtrain, Xtest, ytrain, ytest = train_test_split(X, y, test_size=0.3)"
      ],
      "metadata": {
        "id": "coPYThw1o1nC"
      },
      "execution_count": 7,
      "outputs": []
    },
    {
      "cell_type": "markdown",
      "source": [
        "## Обучение catboost"
      ],
      "metadata": {
        "id": "_FGDFO4d-Iz9"
      }
    },
    {
      "cell_type": "code",
      "source": [
        "!pip install catboost -q"
      ],
      "metadata": {
        "colab": {
          "base_uri": "https://localhost:8080/"
        },
        "id": "PkTQ6zsJxAiE",
        "outputId": "b96ff511-4d5c-4464-d671-8d0dcb847b01"
      },
      "execution_count": 8,
      "outputs": [
        {
          "output_type": "stream",
          "name": "stdout",
          "text": [
            "\u001b[2K     \u001b[90m━━━━━━━━━━━━━━━━━━━━━━━━━━━━━━━━━━━━━━━━\u001b[0m \u001b[32m98.6/98.6 MB\u001b[0m \u001b[31m9.1 MB/s\u001b[0m eta \u001b[36m0:00:00\u001b[0m\n",
            "\u001b[?25h"
          ]
        }
      ]
    },
    {
      "cell_type": "code",
      "source": [
        "from catboost import CatBoostRegressor, Pool\n",
        "from sklearn.model_selection import StratifiedKFold"
      ],
      "metadata": {
        "id": "8lqCogrkxG5m"
      },
      "execution_count": 9,
      "outputs": []
    },
    {
      "cell_type": "code",
      "source": [
        "cat_features = ['experience','schedule','employment']\n",
        "text_features = ['clean_description']\n",
        "\n",
        "train_pool = Pool(\n",
        "    Xtrain, \n",
        "    ytrain, \n",
        "    cat_features=cat_features, \n",
        "    text_features=text_features, \n",
        "    feature_names=list(Xtrain)\n",
        ")\n",
        "valid_pool = Pool(\n",
        "    Xtest, \n",
        "    ytest,\n",
        "    cat_features=cat_features, \n",
        "    text_features=text_features, \n",
        "    feature_names=list(Xtrain)\n",
        ")\n",
        "\n",
        "catboost_params = {\n",
        "    'iterations': 10000,\n",
        "    'learning_rate': 0.01,\n",
        "    'eval_metric': 'R2',\n",
        "    'task_type': 'GPU',\n",
        "    'early_stopping_rounds': 100,\n",
        "    'use_best_model': True,\n",
        "    'verbose': 1000\n",
        "}\n",
        "\n",
        "model = CatBoostRegressor(**catboost_params)\n",
        "model.fit(train_pool, eval_set=valid_pool)"
      ],
      "metadata": {
        "colab": {
          "base_uri": "https://localhost:8080/"
        },
        "id": "3X4ipNCvsc4M",
        "outputId": "0fa50065-9264-4552-dae1-b6f0d0cb411e"
      },
      "execution_count": 11,
      "outputs": [
        {
          "output_type": "stream",
          "name": "stderr",
          "text": [
            "Default metric period is 5 because R2 is/are not implemented for GPU\n",
            "Metric R2 is not implemented on GPU. Will use CPU for metric computation, this could significantly affect learning time\n"
          ]
        },
        {
          "output_type": "stream",
          "name": "stdout",
          "text": [
            "0:\tlearn: 0.0034905\ttest: 0.0029433\tbest: 0.0029433 (0)\ttotal: 27.5ms\tremaining: 4m 35s\n",
            "1000:\tlearn: 0.4654082\ttest: 0.3561019\tbest: 0.3561019 (1000)\ttotal: 42.3s\tremaining: 6m 20s\n",
            "2000:\tlearn: 0.5444688\ttest: 0.3831066\tbest: 0.3831066 (2000)\ttotal: 1m 2s\tremaining: 4m 10s\n",
            "3000:\tlearn: 0.5934298\ttest: 0.3961486\tbest: 0.3961486 (3000)\ttotal: 1m 20s\tremaining: 3m 7s\n",
            "4000:\tlearn: 0.6271625\ttest: 0.4039026\tbest: 0.4039026 (4000)\ttotal: 1m 37s\tremaining: 2m 26s\n",
            "5000:\tlearn: 0.6546836\ttest: 0.4090758\tbest: 0.4090787 (4998)\ttotal: 1m 58s\tremaining: 1m 58s\n",
            "6000:\tlearn: 0.6771234\ttest: 0.4128023\tbest: 0.4128023 (6000)\ttotal: 2m 16s\tremaining: 1m 31s\n",
            "7000:\tlearn: 0.6949699\ttest: 0.4156304\tbest: 0.4156304 (7000)\ttotal: 2m 33s\tremaining: 1m 5s\n",
            "8000:\tlearn: 0.7104591\ttest: 0.4172871\tbest: 0.4173169 (7985)\ttotal: 2m 53s\tremaining: 43.4s\n",
            "bestTest = 0.417772933\n",
            "bestIteration = 8342\n",
            "Shrink model to first 8343 iterations.\n"
          ]
        },
        {
          "output_type": "execute_result",
          "data": {
            "text/plain": [
              "<catboost.core.CatBoostRegressor at 0x7f339c932890>"
            ]
          },
          "metadata": {},
          "execution_count": 11
        }
      ]
    },
    {
      "cell_type": "code",
      "source": [
        "import pickle\n",
        "\n",
        "pickle.dump(model, open('cat_model.pkl', 'wb'))"
      ],
      "metadata": {
        "id": "hydi-On-z-I8"
      },
      "execution_count": 12,
      "outputs": []
    },
    {
      "cell_type": "markdown",
      "source": [
        "## Обучение xgboost"
      ],
      "metadata": {
        "id": "zrT7F20E1nt7"
      }
    },
    {
      "cell_type": "code",
      "source": [
        "!pip install xgboost -q\n",
        "\n",
        "from xgboost import XGBRegressor"
      ],
      "metadata": {
        "id": "vLYLRcCZ1pt1"
      },
      "execution_count": 13,
      "outputs": []
    },
    {
      "cell_type": "markdown",
      "source": [
        "#### label encoder"
      ],
      "metadata": {
        "id": "9qJzLMCzMaM3"
      }
    },
    {
      "cell_type": "code",
      "source": [
        "from sklearn.preprocessing import LabelEncoder\n",
        "\n",
        "enc_le = LabelEncoder()\n",
        "\n",
        "experience_df = pd.DataFrame(enc_le.fit_transform(df_train[['experience']]), columns=['experience'])\n",
        "schedule_df = pd.DataFrame(enc_le.fit_transform(df_train[['schedule']]), columns=['schedule'])\n",
        "employment_df = pd.DataFrame(enc_le.fit_transform(df_train[['employment']]), columns=['employment'])"
      ],
      "metadata": {
        "colab": {
          "base_uri": "https://localhost:8080/"
        },
        "id": "H5i-KpjSMNzq",
        "outputId": "371000ff-a5af-4971-f3c6-d2816073ba7a"
      },
      "execution_count": 53,
      "outputs": [
        {
          "output_type": "stream",
          "name": "stderr",
          "text": [
            "/usr/local/lib/python3.10/dist-packages/sklearn/preprocessing/_label.py:116: DataConversionWarning: A column-vector y was passed when a 1d array was expected. Please change the shape of y to (n_samples, ), for example using ravel().\n",
            "  y = column_or_1d(y, warn=True)\n",
            "/usr/local/lib/python3.10/dist-packages/sklearn/preprocessing/_label.py:116: DataConversionWarning: A column-vector y was passed when a 1d array was expected. Please change the shape of y to (n_samples, ), for example using ravel().\n",
            "  y = column_or_1d(y, warn=True)\n",
            "/usr/local/lib/python3.10/dist-packages/sklearn/preprocessing/_label.py:116: DataConversionWarning: A column-vector y was passed when a 1d array was expected. Please change the shape of y to (n_samples, ), for example using ravel().\n",
            "  y = column_or_1d(y, warn=True)\n"
          ]
        }
      ]
    },
    {
      "cell_type": "markdown",
      "source": [
        "#### onehot encoder"
      ],
      "metadata": {
        "id": "VDdkufRhMWkf"
      }
    },
    {
      "cell_type": "code",
      "source": [
        "from sklearn.preprocessing import OneHotEncoder\n",
        "\n",
        "enc = OneHotEncoder(handle_unknown='ignore')\n",
        "# passing bridge-types-cat column (label encoded values of bridge_types)\n",
        "experience_df = pd.DataFrame(enc.fit_transform(X[['experience']]).toarray(), columns=X['experience'].unique())\n",
        "schedule_df = pd.DataFrame(enc.fit_transform(X[['schedule']]).toarray(), columns=X['schedule'].unique())\n",
        "employment_df = pd.DataFrame(enc.fit_transform(X[['employment']]).toarray(), columns=X['employment'].unique())"
      ],
      "metadata": {
        "id": "gJbuSpXO1rrf"
      },
      "execution_count": 14,
      "outputs": []
    },
    {
      "cell_type": "code",
      "source": [
        "train_upd = pd.concat([experience_df, schedule_df, employment_df], axis=1)"
      ],
      "metadata": {
        "id": "5ZcML1WguOGm"
      },
      "execution_count": 15,
      "outputs": []
    },
    {
      "cell_type": "markdown",
      "source": [
        "#### word2vec"
      ],
      "metadata": {
        "id": "RUHuKPkAUr09"
      }
    },
    {
      "cell_type": "code",
      "source": [
        "!pip install gensim==4.2 -q"
      ],
      "metadata": {
        "colab": {
          "base_uri": "https://localhost:8080/"
        },
        "id": "XyL8fgMmzh-A",
        "outputId": "acd996e1-a5ef-4607-b084-722732032401"
      },
      "execution_count": 16,
      "outputs": [
        {
          "output_type": "stream",
          "name": "stdout",
          "text": [
            "\u001b[2K     \u001b[90m━━━━━━━━━━━━━━━━━━━━━━━━━━━━━━━━━━━━━━━━\u001b[0m \u001b[32m24.0/24.0 MB\u001b[0m \u001b[31m17.1 MB/s\u001b[0m eta \u001b[36m0:00:00\u001b[0m\n",
            "\u001b[?25h"
          ]
        }
      ]
    },
    {
      "cell_type": "code",
      "source": [
        "from gensim.models import Word2Vec\n",
        "VEC_SIZE = 300\n",
        "%time w2v_model = Word2Vec(sentences=df_train['clean_description'], vector_size=VEC_SIZE, sg=1, hs=1, window=9, min_count=10)"
      ],
      "metadata": {
        "colab": {
          "base_uri": "https://localhost:8080/"
        },
        "id": "fgLlYYirzqj0",
        "outputId": "caa23696-7071-43f2-ead6-6e3cfca379a9"
      },
      "execution_count": 18,
      "outputs": [
        {
          "output_type": "stream",
          "name": "stderr",
          "text": [
            "WARNING:gensim.models.word2vec:Each 'sentences' item should be a list of words (usually unicode strings). First item here is instead plain <class 'str'>.\n"
          ]
        },
        {
          "output_type": "stream",
          "name": "stdout",
          "text": [
            "CPU times: user 9min 34s, sys: 829 ms, total: 9min 35s\n",
            "Wall time: 6min 5s\n"
          ]
        }
      ]
    },
    {
      "cell_type": "code",
      "source": [
        "def make_w2v_features(texts):\n",
        "    w2v_features = []\n",
        "    words_count = 0\n",
        "    for element in texts:\n",
        "        comment = np.zeros(VEC_SIZE)\n",
        "        element_tokenized = nltk.word_tokenize(element)\n",
        "        for word in element_tokenized:\n",
        "            words_count += 1\n",
        "            if word in w2v_model.wv.key_to_index.keys():\n",
        "                word_vector = w2v_model.wv[word]\n",
        "                comment = comment + word_vector\n",
        "        \n",
        "        if words_count == 0:\n",
        "            words_count = 1\n",
        "        w2v_features.append(comment/words_count)\n",
        "        words_count = 0\n",
        "                \n",
        "    return w2v_features"
      ],
      "metadata": {
        "id": "n8_zd_4JJMzt"
      },
      "execution_count": 19,
      "outputs": []
    },
    {
      "cell_type": "code",
      "source": [
        "w2v_train = pd.DataFrame(make_w2v_features(df_train['clean_description']))"
      ],
      "metadata": {
        "id": "GI6yru08HzF9"
      },
      "execution_count": 20,
      "outputs": []
    },
    {
      "cell_type": "code",
      "source": [
        "w2v_train[train_upd.columns] = train_upd[train_upd.columns].reset_index(drop=True)"
      ],
      "metadata": {
        "id": "fVlo5GPcKqGC"
      },
      "execution_count": 21,
      "outputs": []
    },
    {
      "cell_type": "code",
      "source": [
        "w2v_train.shape"
      ],
      "metadata": {
        "colab": {
          "base_uri": "https://localhost:8080/"
        },
        "id": "IJQ2k3SAH4gl",
        "outputId": "0a3b5b1a-a757-4e56-967d-802ae497da78"
      },
      "execution_count": 22,
      "outputs": [
        {
          "output_type": "execute_result",
          "data": {
            "text/plain": [
              "(16629, 313)"
            ]
          },
          "metadata": {},
          "execution_count": 22
        }
      ]
    },
    {
      "cell_type": "code",
      "source": [
        "Xtrain, Xtest, ytrain, ytest = train_test_split(w2v_train, y, test_size=0.3)"
      ],
      "metadata": {
        "id": "n-oSnUH8wlGr"
      },
      "execution_count": 23,
      "outputs": []
    },
    {
      "cell_type": "code",
      "source": [
        "xgb=XGBRegressor(learning_rate = 0.01,\n",
        "                       n_estimators = 200)\n",
        "xgb.fit(Xtrain, ytrain)"
      ],
      "metadata": {
        "id": "JLe-xMnMbkxj",
        "colab": {
          "base_uri": "https://localhost:8080/",
          "height": 248
        },
        "outputId": "12429f62-a157-493a-ca50-bb3b03294d5b"
      },
      "execution_count": 24,
      "outputs": [
        {
          "output_type": "execute_result",
          "data": {
            "text/plain": [
              "XGBRegressor(base_score=None, booster=None, callbacks=None,\n",
              "             colsample_bylevel=None, colsample_bynode=None,\n",
              "             colsample_bytree=None, early_stopping_rounds=None,\n",
              "             enable_categorical=False, eval_metric=None, feature_types=None,\n",
              "             gamma=None, gpu_id=None, grow_policy=None, importance_type=None,\n",
              "             interaction_constraints=None, learning_rate=0.01, max_bin=None,\n",
              "             max_cat_threshold=None, max_cat_to_onehot=None,\n",
              "             max_delta_step=None, max_depth=None, max_leaves=None,\n",
              "             min_child_weight=None, missing=nan, monotone_constraints=None,\n",
              "             n_estimators=200, n_jobs=None, num_parallel_tree=None,\n",
              "             predictor=None, random_state=None, ...)"
            ],
            "text/html": [
              "<style>#sk-container-id-1 {color: black;background-color: white;}#sk-container-id-1 pre{padding: 0;}#sk-container-id-1 div.sk-toggleable {background-color: white;}#sk-container-id-1 label.sk-toggleable__label {cursor: pointer;display: block;width: 100%;margin-bottom: 0;padding: 0.3em;box-sizing: border-box;text-align: center;}#sk-container-id-1 label.sk-toggleable__label-arrow:before {content: \"▸\";float: left;margin-right: 0.25em;color: #696969;}#sk-container-id-1 label.sk-toggleable__label-arrow:hover:before {color: black;}#sk-container-id-1 div.sk-estimator:hover label.sk-toggleable__label-arrow:before {color: black;}#sk-container-id-1 div.sk-toggleable__content {max-height: 0;max-width: 0;overflow: hidden;text-align: left;background-color: #f0f8ff;}#sk-container-id-1 div.sk-toggleable__content pre {margin: 0.2em;color: black;border-radius: 0.25em;background-color: #f0f8ff;}#sk-container-id-1 input.sk-toggleable__control:checked~div.sk-toggleable__content {max-height: 200px;max-width: 100%;overflow: auto;}#sk-container-id-1 input.sk-toggleable__control:checked~label.sk-toggleable__label-arrow:before {content: \"▾\";}#sk-container-id-1 div.sk-estimator input.sk-toggleable__control:checked~label.sk-toggleable__label {background-color: #d4ebff;}#sk-container-id-1 div.sk-label input.sk-toggleable__control:checked~label.sk-toggleable__label {background-color: #d4ebff;}#sk-container-id-1 input.sk-hidden--visually {border: 0;clip: rect(1px 1px 1px 1px);clip: rect(1px, 1px, 1px, 1px);height: 1px;margin: -1px;overflow: hidden;padding: 0;position: absolute;width: 1px;}#sk-container-id-1 div.sk-estimator {font-family: monospace;background-color: #f0f8ff;border: 1px dotted black;border-radius: 0.25em;box-sizing: border-box;margin-bottom: 0.5em;}#sk-container-id-1 div.sk-estimator:hover {background-color: #d4ebff;}#sk-container-id-1 div.sk-parallel-item::after {content: \"\";width: 100%;border-bottom: 1px solid gray;flex-grow: 1;}#sk-container-id-1 div.sk-label:hover label.sk-toggleable__label {background-color: #d4ebff;}#sk-container-id-1 div.sk-serial::before {content: \"\";position: absolute;border-left: 1px solid gray;box-sizing: border-box;top: 0;bottom: 0;left: 50%;z-index: 0;}#sk-container-id-1 div.sk-serial {display: flex;flex-direction: column;align-items: center;background-color: white;padding-right: 0.2em;padding-left: 0.2em;position: relative;}#sk-container-id-1 div.sk-item {position: relative;z-index: 1;}#sk-container-id-1 div.sk-parallel {display: flex;align-items: stretch;justify-content: center;background-color: white;position: relative;}#sk-container-id-1 div.sk-item::before, #sk-container-id-1 div.sk-parallel-item::before {content: \"\";position: absolute;border-left: 1px solid gray;box-sizing: border-box;top: 0;bottom: 0;left: 50%;z-index: -1;}#sk-container-id-1 div.sk-parallel-item {display: flex;flex-direction: column;z-index: 1;position: relative;background-color: white;}#sk-container-id-1 div.sk-parallel-item:first-child::after {align-self: flex-end;width: 50%;}#sk-container-id-1 div.sk-parallel-item:last-child::after {align-self: flex-start;width: 50%;}#sk-container-id-1 div.sk-parallel-item:only-child::after {width: 0;}#sk-container-id-1 div.sk-dashed-wrapped {border: 1px dashed gray;margin: 0 0.4em 0.5em 0.4em;box-sizing: border-box;padding-bottom: 0.4em;background-color: white;}#sk-container-id-1 div.sk-label label {font-family: monospace;font-weight: bold;display: inline-block;line-height: 1.2em;}#sk-container-id-1 div.sk-label-container {text-align: center;}#sk-container-id-1 div.sk-container {/* jupyter's `normalize.less` sets `[hidden] { display: none; }` but bootstrap.min.css set `[hidden] { display: none !important; }` so we also need the `!important` here to be able to override the default hidden behavior on the sphinx rendered scikit-learn.org. See: https://github.com/scikit-learn/scikit-learn/issues/21755 */display: inline-block !important;position: relative;}#sk-container-id-1 div.sk-text-repr-fallback {display: none;}</style><div id=\"sk-container-id-1\" class=\"sk-top-container\"><div class=\"sk-text-repr-fallback\"><pre>XGBRegressor(base_score=None, booster=None, callbacks=None,\n",
              "             colsample_bylevel=None, colsample_bynode=None,\n",
              "             colsample_bytree=None, early_stopping_rounds=None,\n",
              "             enable_categorical=False, eval_metric=None, feature_types=None,\n",
              "             gamma=None, gpu_id=None, grow_policy=None, importance_type=None,\n",
              "             interaction_constraints=None, learning_rate=0.01, max_bin=None,\n",
              "             max_cat_threshold=None, max_cat_to_onehot=None,\n",
              "             max_delta_step=None, max_depth=None, max_leaves=None,\n",
              "             min_child_weight=None, missing=nan, monotone_constraints=None,\n",
              "             n_estimators=200, n_jobs=None, num_parallel_tree=None,\n",
              "             predictor=None, random_state=None, ...)</pre><b>In a Jupyter environment, please rerun this cell to show the HTML representation or trust the notebook. <br />On GitHub, the HTML representation is unable to render, please try loading this page with nbviewer.org.</b></div><div class=\"sk-container\" hidden><div class=\"sk-item\"><div class=\"sk-estimator sk-toggleable\"><input class=\"sk-toggleable__control sk-hidden--visually\" id=\"sk-estimator-id-1\" type=\"checkbox\" checked><label for=\"sk-estimator-id-1\" class=\"sk-toggleable__label sk-toggleable__label-arrow\">XGBRegressor</label><div class=\"sk-toggleable__content\"><pre>XGBRegressor(base_score=None, booster=None, callbacks=None,\n",
              "             colsample_bylevel=None, colsample_bynode=None,\n",
              "             colsample_bytree=None, early_stopping_rounds=None,\n",
              "             enable_categorical=False, eval_metric=None, feature_types=None,\n",
              "             gamma=None, gpu_id=None, grow_policy=None, importance_type=None,\n",
              "             interaction_constraints=None, learning_rate=0.01, max_bin=None,\n",
              "             max_cat_threshold=None, max_cat_to_onehot=None,\n",
              "             max_delta_step=None, max_depth=None, max_leaves=None,\n",
              "             min_child_weight=None, missing=nan, monotone_constraints=None,\n",
              "             n_estimators=200, n_jobs=None, num_parallel_tree=None,\n",
              "             predictor=None, random_state=None, ...)</pre></div></div></div></div></div>"
            ]
          },
          "metadata": {},
          "execution_count": 24
        }
      ]
    },
    {
      "cell_type": "code",
      "source": [
        "pickle.dump(xgb, open('xgb_model.pkl', 'wb'))"
      ],
      "metadata": {
        "id": "cy_mi7LF1aZG"
      },
      "execution_count": 29,
      "outputs": []
    },
    {
      "cell_type": "code",
      "source": [
        "from sklearn.metrics import r2_score, make_scorer\n",
        "from sklearn.model_selection import cross_val_score\n",
        "\n",
        "scorer = make_scorer(r2_score, greater_is_better=True)\n",
        "result =  cross_val_score(xgb, w2v_train, y, cv=3, scoring=scorer)\n",
        "print(result.mean())"
      ],
      "metadata": {
        "id": "4AxSZOPYwq0m",
        "colab": {
          "base_uri": "https://localhost:8080/"
        },
        "outputId": "cdf8779a-470a-47ad-e8f4-752842fce139"
      },
      "execution_count": 25,
      "outputs": [
        {
          "output_type": "stream",
          "name": "stdout",
          "text": [
            "0.1671510691929966\n"
          ]
        }
      ]
    },
    {
      "cell_type": "markdown",
      "source": [
        "## Обучение LightGBM"
      ],
      "metadata": {
        "id": "RRDBMMn-TZfI"
      }
    },
    {
      "cell_type": "code",
      "source": [
        "from lightgbm import LGBMRegressor\n",
        "\n",
        "lgbm = LGBMRegressor(boosting_type='gbdt', n_estimators=200)\n",
        "lgbm.fit(Xtrain, ytrain)"
      ],
      "metadata": {
        "colab": {
          "base_uri": "https://localhost:8080/",
          "height": 74
        },
        "id": "qNIPvwGULiWI",
        "outputId": "4efd21c9-d54e-4fe1-d7f7-3e84ba826ec7"
      },
      "execution_count": 26,
      "outputs": [
        {
          "output_type": "execute_result",
          "data": {
            "text/plain": [
              "LGBMRegressor(n_estimators=200)"
            ],
            "text/html": [
              "<style>#sk-container-id-2 {color: black;background-color: white;}#sk-container-id-2 pre{padding: 0;}#sk-container-id-2 div.sk-toggleable {background-color: white;}#sk-container-id-2 label.sk-toggleable__label {cursor: pointer;display: block;width: 100%;margin-bottom: 0;padding: 0.3em;box-sizing: border-box;text-align: center;}#sk-container-id-2 label.sk-toggleable__label-arrow:before {content: \"▸\";float: left;margin-right: 0.25em;color: #696969;}#sk-container-id-2 label.sk-toggleable__label-arrow:hover:before {color: black;}#sk-container-id-2 div.sk-estimator:hover label.sk-toggleable__label-arrow:before {color: black;}#sk-container-id-2 div.sk-toggleable__content {max-height: 0;max-width: 0;overflow: hidden;text-align: left;background-color: #f0f8ff;}#sk-container-id-2 div.sk-toggleable__content pre {margin: 0.2em;color: black;border-radius: 0.25em;background-color: #f0f8ff;}#sk-container-id-2 input.sk-toggleable__control:checked~div.sk-toggleable__content {max-height: 200px;max-width: 100%;overflow: auto;}#sk-container-id-2 input.sk-toggleable__control:checked~label.sk-toggleable__label-arrow:before {content: \"▾\";}#sk-container-id-2 div.sk-estimator input.sk-toggleable__control:checked~label.sk-toggleable__label {background-color: #d4ebff;}#sk-container-id-2 div.sk-label input.sk-toggleable__control:checked~label.sk-toggleable__label {background-color: #d4ebff;}#sk-container-id-2 input.sk-hidden--visually {border: 0;clip: rect(1px 1px 1px 1px);clip: rect(1px, 1px, 1px, 1px);height: 1px;margin: -1px;overflow: hidden;padding: 0;position: absolute;width: 1px;}#sk-container-id-2 div.sk-estimator {font-family: monospace;background-color: #f0f8ff;border: 1px dotted black;border-radius: 0.25em;box-sizing: border-box;margin-bottom: 0.5em;}#sk-container-id-2 div.sk-estimator:hover {background-color: #d4ebff;}#sk-container-id-2 div.sk-parallel-item::after {content: \"\";width: 100%;border-bottom: 1px solid gray;flex-grow: 1;}#sk-container-id-2 div.sk-label:hover label.sk-toggleable__label {background-color: #d4ebff;}#sk-container-id-2 div.sk-serial::before {content: \"\";position: absolute;border-left: 1px solid gray;box-sizing: border-box;top: 0;bottom: 0;left: 50%;z-index: 0;}#sk-container-id-2 div.sk-serial {display: flex;flex-direction: column;align-items: center;background-color: white;padding-right: 0.2em;padding-left: 0.2em;position: relative;}#sk-container-id-2 div.sk-item {position: relative;z-index: 1;}#sk-container-id-2 div.sk-parallel {display: flex;align-items: stretch;justify-content: center;background-color: white;position: relative;}#sk-container-id-2 div.sk-item::before, #sk-container-id-2 div.sk-parallel-item::before {content: \"\";position: absolute;border-left: 1px solid gray;box-sizing: border-box;top: 0;bottom: 0;left: 50%;z-index: -1;}#sk-container-id-2 div.sk-parallel-item {display: flex;flex-direction: column;z-index: 1;position: relative;background-color: white;}#sk-container-id-2 div.sk-parallel-item:first-child::after {align-self: flex-end;width: 50%;}#sk-container-id-2 div.sk-parallel-item:last-child::after {align-self: flex-start;width: 50%;}#sk-container-id-2 div.sk-parallel-item:only-child::after {width: 0;}#sk-container-id-2 div.sk-dashed-wrapped {border: 1px dashed gray;margin: 0 0.4em 0.5em 0.4em;box-sizing: border-box;padding-bottom: 0.4em;background-color: white;}#sk-container-id-2 div.sk-label label {font-family: monospace;font-weight: bold;display: inline-block;line-height: 1.2em;}#sk-container-id-2 div.sk-label-container {text-align: center;}#sk-container-id-2 div.sk-container {/* jupyter's `normalize.less` sets `[hidden] { display: none; }` but bootstrap.min.css set `[hidden] { display: none !important; }` so we also need the `!important` here to be able to override the default hidden behavior on the sphinx rendered scikit-learn.org. See: https://github.com/scikit-learn/scikit-learn/issues/21755 */display: inline-block !important;position: relative;}#sk-container-id-2 div.sk-text-repr-fallback {display: none;}</style><div id=\"sk-container-id-2\" class=\"sk-top-container\"><div class=\"sk-text-repr-fallback\"><pre>LGBMRegressor(n_estimators=200)</pre><b>In a Jupyter environment, please rerun this cell to show the HTML representation or trust the notebook. <br />On GitHub, the HTML representation is unable to render, please try loading this page with nbviewer.org.</b></div><div class=\"sk-container\" hidden><div class=\"sk-item\"><div class=\"sk-estimator sk-toggleable\"><input class=\"sk-toggleable__control sk-hidden--visually\" id=\"sk-estimator-id-2\" type=\"checkbox\" checked><label for=\"sk-estimator-id-2\" class=\"sk-toggleable__label sk-toggleable__label-arrow\">LGBMRegressor</label><div class=\"sk-toggleable__content\"><pre>LGBMRegressor(n_estimators=200)</pre></div></div></div></div></div>"
            ]
          },
          "metadata": {},
          "execution_count": 26
        }
      ]
    },
    {
      "cell_type": "code",
      "source": [
        "pickle.dump(lgbm, open('lgbm_model.pkl', 'wb'))"
      ],
      "metadata": {
        "id": "PnFDGa_X1dJs"
      },
      "execution_count": 27,
      "outputs": []
    },
    {
      "cell_type": "code",
      "source": [
        "from sklearn.metrics import r2_score, make_scorer\n",
        "from sklearn.model_selection import cross_val_score\n",
        "\n",
        "scorer = make_scorer(r2_score, greater_is_better=True)\n",
        "result =  cross_val_score(lgbm, w2v_train, y, cv=3, scoring=scorer)\n",
        "print(result.mean())"
      ],
      "metadata": {
        "colab": {
          "base_uri": "https://localhost:8080/"
        },
        "id": "b_fLAe8ONNpd",
        "outputId": "c933751b-0b46-4dce-f861-e27f17491c81"
      },
      "execution_count": 28,
      "outputs": [
        {
          "output_type": "stream",
          "name": "stdout",
          "text": [
            "0.20713416544629495\n"
          ]
        }
      ]
    },
    {
      "cell_type": "markdown",
      "source": [
        "# Инференс модели"
      ],
      "metadata": {
        "id": "14SEFJV4-BeO"
      }
    },
    {
      "cell_type": "code",
      "source": [
        "test = pd.read_csv('vacancies_test.csv')\n",
        "test.head()"
      ],
      "metadata": {
        "colab": {
          "base_uri": "https://localhost:8080/",
          "height": 337
        },
        "id": "2ClrTJEWz0-u",
        "outputId": "9e0c0165-202c-42c0-eeb4-d1ac129b5b71"
      },
      "execution_count": 30,
      "outputs": [
        {
          "output_type": "execute_result",
          "data": {
            "text/plain": [
              "   id                         name          experience        schedule  \\\n",
              "0   0            Главный бухгалтер         Более 6 лет     Полный день   \n",
              "1   1  Ассистент врача-стоматолога  От 1 года до 3 лет  Сменный график   \n",
              "2   2         Менеджер по продажам  От 1 года до 3 лет     Полный день   \n",
              "3   3                     Менеджер  От 1 года до 3 лет     Полный день   \n",
              "4   4        Администратор хостела           Нет опыта  Сменный график   \n",
              "\n",
              "         employment                                        description  \\\n",
              "0  Полная занятость  Обязанности:Осуществление организации бухгалте...   \n",
              "1  Полная занятость  Обязанности:  Ассистировать врачу стоматологу,...   \n",
              "2  Полная занятость  Если ты:    хочешь построить карьеру в банковс...   \n",
              "3  Полная занятость    Динамично развивающаяся на протяжении 17 лет...   \n",
              "4  Полная занятость  ВОЗМОЖНА РАБОТА С ПРОЖИВАНИЕМ Обязанности:  Пр...   \n",
              "\n",
              "                                          key_skills  \n",
              "0  ['1С: Предприятие 8', '1C: Предприятие', 'Рабо...  \n",
              "1  ['Пользователь ПК', 'Работа в команде', 'Умени...  \n",
              "2                                                 []  \n",
              "3  ['Оценка потребностей клиентов', 'оформление д...  \n",
              "4                                                 []  "
            ],
            "text/html": [
              "\n",
              "  <div id=\"df-e9626936-e12b-49f0-adf0-3093d7920225\">\n",
              "    <div class=\"colab-df-container\">\n",
              "      <div>\n",
              "<style scoped>\n",
              "    .dataframe tbody tr th:only-of-type {\n",
              "        vertical-align: middle;\n",
              "    }\n",
              "\n",
              "    .dataframe tbody tr th {\n",
              "        vertical-align: top;\n",
              "    }\n",
              "\n",
              "    .dataframe thead th {\n",
              "        text-align: right;\n",
              "    }\n",
              "</style>\n",
              "<table border=\"1\" class=\"dataframe\">\n",
              "  <thead>\n",
              "    <tr style=\"text-align: right;\">\n",
              "      <th></th>\n",
              "      <th>id</th>\n",
              "      <th>name</th>\n",
              "      <th>experience</th>\n",
              "      <th>schedule</th>\n",
              "      <th>employment</th>\n",
              "      <th>description</th>\n",
              "      <th>key_skills</th>\n",
              "    </tr>\n",
              "  </thead>\n",
              "  <tbody>\n",
              "    <tr>\n",
              "      <th>0</th>\n",
              "      <td>0</td>\n",
              "      <td>Главный бухгалтер</td>\n",
              "      <td>Более 6 лет</td>\n",
              "      <td>Полный день</td>\n",
              "      <td>Полная занятость</td>\n",
              "      <td>Обязанности:Осуществление организации бухгалте...</td>\n",
              "      <td>['1С: Предприятие 8', '1C: Предприятие', 'Рабо...</td>\n",
              "    </tr>\n",
              "    <tr>\n",
              "      <th>1</th>\n",
              "      <td>1</td>\n",
              "      <td>Ассистент врача-стоматолога</td>\n",
              "      <td>От 1 года до 3 лет</td>\n",
              "      <td>Сменный график</td>\n",
              "      <td>Полная занятость</td>\n",
              "      <td>Обязанности:  Ассистировать врачу стоматологу,...</td>\n",
              "      <td>['Пользователь ПК', 'Работа в команде', 'Умени...</td>\n",
              "    </tr>\n",
              "    <tr>\n",
              "      <th>2</th>\n",
              "      <td>2</td>\n",
              "      <td>Менеджер по продажам</td>\n",
              "      <td>От 1 года до 3 лет</td>\n",
              "      <td>Полный день</td>\n",
              "      <td>Полная занятость</td>\n",
              "      <td>Если ты:    хочешь построить карьеру в банковс...</td>\n",
              "      <td>[]</td>\n",
              "    </tr>\n",
              "    <tr>\n",
              "      <th>3</th>\n",
              "      <td>3</td>\n",
              "      <td>Менеджер</td>\n",
              "      <td>От 1 года до 3 лет</td>\n",
              "      <td>Полный день</td>\n",
              "      <td>Полная занятость</td>\n",
              "      <td>Динамично развивающаяся на протяжении 17 лет...</td>\n",
              "      <td>['Оценка потребностей клиентов', 'оформление д...</td>\n",
              "    </tr>\n",
              "    <tr>\n",
              "      <th>4</th>\n",
              "      <td>4</td>\n",
              "      <td>Администратор хостела</td>\n",
              "      <td>Нет опыта</td>\n",
              "      <td>Сменный график</td>\n",
              "      <td>Полная занятость</td>\n",
              "      <td>ВОЗМОЖНА РАБОТА С ПРОЖИВАНИЕМ Обязанности:  Пр...</td>\n",
              "      <td>[]</td>\n",
              "    </tr>\n",
              "  </tbody>\n",
              "</table>\n",
              "</div>\n",
              "      <button class=\"colab-df-convert\" onclick=\"convertToInteractive('df-e9626936-e12b-49f0-adf0-3093d7920225')\"\n",
              "              title=\"Convert this dataframe to an interactive table.\"\n",
              "              style=\"display:none;\">\n",
              "        \n",
              "  <svg xmlns=\"http://www.w3.org/2000/svg\" height=\"24px\"viewBox=\"0 0 24 24\"\n",
              "       width=\"24px\">\n",
              "    <path d=\"M0 0h24v24H0V0z\" fill=\"none\"/>\n",
              "    <path d=\"M18.56 5.44l.94 2.06.94-2.06 2.06-.94-2.06-.94-.94-2.06-.94 2.06-2.06.94zm-11 1L8.5 8.5l.94-2.06 2.06-.94-2.06-.94L8.5 2.5l-.94 2.06-2.06.94zm10 10l.94 2.06.94-2.06 2.06-.94-2.06-.94-.94-2.06-.94 2.06-2.06.94z\"/><path d=\"M17.41 7.96l-1.37-1.37c-.4-.4-.92-.59-1.43-.59-.52 0-1.04.2-1.43.59L10.3 9.45l-7.72 7.72c-.78.78-.78 2.05 0 2.83L4 21.41c.39.39.9.59 1.41.59.51 0 1.02-.2 1.41-.59l7.78-7.78 2.81-2.81c.8-.78.8-2.07 0-2.86zM5.41 20L4 18.59l7.72-7.72 1.47 1.35L5.41 20z\"/>\n",
              "  </svg>\n",
              "      </button>\n",
              "      \n",
              "  <style>\n",
              "    .colab-df-container {\n",
              "      display:flex;\n",
              "      flex-wrap:wrap;\n",
              "      gap: 12px;\n",
              "    }\n",
              "\n",
              "    .colab-df-convert {\n",
              "      background-color: #E8F0FE;\n",
              "      border: none;\n",
              "      border-radius: 50%;\n",
              "      cursor: pointer;\n",
              "      display: none;\n",
              "      fill: #1967D2;\n",
              "      height: 32px;\n",
              "      padding: 0 0 0 0;\n",
              "      width: 32px;\n",
              "    }\n",
              "\n",
              "    .colab-df-convert:hover {\n",
              "      background-color: #E2EBFA;\n",
              "      box-shadow: 0px 1px 2px rgba(60, 64, 67, 0.3), 0px 1px 3px 1px rgba(60, 64, 67, 0.15);\n",
              "      fill: #174EA6;\n",
              "    }\n",
              "\n",
              "    [theme=dark] .colab-df-convert {\n",
              "      background-color: #3B4455;\n",
              "      fill: #D2E3FC;\n",
              "    }\n",
              "\n",
              "    [theme=dark] .colab-df-convert:hover {\n",
              "      background-color: #434B5C;\n",
              "      box-shadow: 0px 1px 3px 1px rgba(0, 0, 0, 0.15);\n",
              "      filter: drop-shadow(0px 1px 2px rgba(0, 0, 0, 0.3));\n",
              "      fill: #FFFFFF;\n",
              "    }\n",
              "  </style>\n",
              "\n",
              "      <script>\n",
              "        const buttonEl =\n",
              "          document.querySelector('#df-e9626936-e12b-49f0-adf0-3093d7920225 button.colab-df-convert');\n",
              "        buttonEl.style.display =\n",
              "          google.colab.kernel.accessAllowed ? 'block' : 'none';\n",
              "\n",
              "        async function convertToInteractive(key) {\n",
              "          const element = document.querySelector('#df-e9626936-e12b-49f0-adf0-3093d7920225');\n",
              "          const dataTable =\n",
              "            await google.colab.kernel.invokeFunction('convertToInteractive',\n",
              "                                                     [key], {});\n",
              "          if (!dataTable) return;\n",
              "\n",
              "          const docLinkHtml = 'Like what you see? Visit the ' +\n",
              "            '<a target=\"_blank\" href=https://colab.research.google.com/notebooks/data_table.ipynb>data table notebook</a>'\n",
              "            + ' to learn more about interactive tables.';\n",
              "          element.innerHTML = '';\n",
              "          dataTable['output_type'] = 'display_data';\n",
              "          await google.colab.output.renderOutput(dataTable, element);\n",
              "          const docLink = document.createElement('div');\n",
              "          docLink.innerHTML = docLinkHtml;\n",
              "          element.appendChild(docLink);\n",
              "        }\n",
              "      </script>\n",
              "    </div>\n",
              "  </div>\n",
              "  "
            ]
          },
          "metadata": {},
          "execution_count": 30
        }
      ]
    },
    {
      "cell_type": "code",
      "source": [
        "test.info()"
      ],
      "metadata": {
        "colab": {
          "base_uri": "https://localhost:8080/"
        },
        "id": "5rQG98kt0sfB",
        "outputId": "acb01033-2fa4-4054-ca8b-1448ad332f49"
      },
      "execution_count": 31,
      "outputs": [
        {
          "output_type": "stream",
          "name": "stdout",
          "text": [
            "<class 'pandas.core.frame.DataFrame'>\n",
            "RangeIndex: 5543 entries, 0 to 5542\n",
            "Data columns (total 7 columns):\n",
            " #   Column       Non-Null Count  Dtype \n",
            "---  ------       --------------  ----- \n",
            " 0   id           5543 non-null   int64 \n",
            " 1   name         5543 non-null   object\n",
            " 2   experience   5543 non-null   object\n",
            " 3   schedule     5543 non-null   object\n",
            " 4   employment   5543 non-null   object\n",
            " 5   description  5543 non-null   object\n",
            " 6   key_skills   5543 non-null   object\n",
            "dtypes: int64(1), object(6)\n",
            "memory usage: 303.3+ KB\n"
          ]
        }
      ]
    },
    {
      "cell_type": "code",
      "source": [
        "test['text'] = test['name'] + test['description'] + test['key_skills']"
      ],
      "metadata": {
        "id": "1neISN3a8VWU"
      },
      "execution_count": 32,
      "outputs": []
    },
    {
      "cell_type": "code",
      "source": [
        "test['clean_text'] = test['text'].apply(clean_text)"
      ],
      "metadata": {
        "id": "ssqLATQg0t5o"
      },
      "execution_count": 33,
      "outputs": []
    },
    {
      "cell_type": "code",
      "source": [
        "cleaned_test = test.drop(['id','name', 'key_skills', 'description', 'text'], axis=1)"
      ],
      "metadata": {
        "id": "-WKkeWlV06g0"
      },
      "execution_count": 34,
      "outputs": []
    },
    {
      "cell_type": "markdown",
      "source": [
        "## w2v"
      ],
      "metadata": {
        "id": "2SAEY2_8hDOd"
      }
    },
    {
      "cell_type": "code",
      "source": [
        "w2v_test = pd.DataFrame(make_w2v_features(cleaned_test['clean_text']))"
      ],
      "metadata": {
        "id": "RegwEcb9g-yF"
      },
      "execution_count": 35,
      "outputs": []
    },
    {
      "cell_type": "code",
      "source": [
        "experience_test = pd.DataFrame(enc.fit_transform(test[['experience']]).toarray(), columns=X['experience'].unique())\n",
        "schedule_test = pd.DataFrame(enc.fit_transform(test[['schedule']]).toarray(), columns=X['schedule'].unique())\n",
        "employment_test = pd.DataFrame(enc.fit_transform(test[['employment']]).toarray(), columns=X['employment'].unique())"
      ],
      "metadata": {
        "id": "uTivi8Reh0uY"
      },
      "execution_count": 36,
      "outputs": []
    },
    {
      "cell_type": "code",
      "source": [
        "test_upd = pd.concat([experience_test, schedule_test, employment_test], axis=1)\n",
        "test_upd.head()"
      ],
      "metadata": {
        "colab": {
          "base_uri": "https://localhost:8080/",
          "height": 267
        },
        "id": "ZZx3vTHih9RZ",
        "outputId": "e4d37de6-5c48-4828-b26e-d7daf71d947e"
      },
      "execution_count": 37,
      "outputs": [
        {
          "output_type": "execute_result",
          "data": {
            "text/plain": [
              "   От 3 до 6 лет  От 1 года до 3 лет  Нет опыта  Более 6 лет  Полный день  \\\n",
              "0            1.0                 0.0        0.0          0.0          0.0   \n",
              "1            0.0                 0.0        1.0          0.0          0.0   \n",
              "2            0.0                 0.0        1.0          0.0          0.0   \n",
              "3            0.0                 0.0        1.0          0.0          0.0   \n",
              "4            0.0                 1.0        0.0          0.0          0.0   \n",
              "\n",
              "   Сменный график  Гибкий график  Вахтовый метод  Удаленная работа  \\\n",
              "0             0.0            1.0             0.0               0.0   \n",
              "1             0.0            0.0             1.0               0.0   \n",
              "2             0.0            1.0             0.0               0.0   \n",
              "3             0.0            1.0             0.0               0.0   \n",
              "4             0.0            0.0             1.0               0.0   \n",
              "\n",
              "   Полная занятость  Частичная занятость  Проектная работа  Стажировка  \n",
              "0               1.0                  0.0               0.0         0.0  \n",
              "1               1.0                  0.0               0.0         0.0  \n",
              "2               1.0                  0.0               0.0         0.0  \n",
              "3               1.0                  0.0               0.0         0.0  \n",
              "4               1.0                  0.0               0.0         0.0  "
            ],
            "text/html": [
              "\n",
              "  <div id=\"df-9a8abc89-980c-400a-a647-75beb3da2242\">\n",
              "    <div class=\"colab-df-container\">\n",
              "      <div>\n",
              "<style scoped>\n",
              "    .dataframe tbody tr th:only-of-type {\n",
              "        vertical-align: middle;\n",
              "    }\n",
              "\n",
              "    .dataframe tbody tr th {\n",
              "        vertical-align: top;\n",
              "    }\n",
              "\n",
              "    .dataframe thead th {\n",
              "        text-align: right;\n",
              "    }\n",
              "</style>\n",
              "<table border=\"1\" class=\"dataframe\">\n",
              "  <thead>\n",
              "    <tr style=\"text-align: right;\">\n",
              "      <th></th>\n",
              "      <th>От 3 до 6 лет</th>\n",
              "      <th>От 1 года до 3 лет</th>\n",
              "      <th>Нет опыта</th>\n",
              "      <th>Более 6 лет</th>\n",
              "      <th>Полный день</th>\n",
              "      <th>Сменный график</th>\n",
              "      <th>Гибкий график</th>\n",
              "      <th>Вахтовый метод</th>\n",
              "      <th>Удаленная работа</th>\n",
              "      <th>Полная занятость</th>\n",
              "      <th>Частичная занятость</th>\n",
              "      <th>Проектная работа</th>\n",
              "      <th>Стажировка</th>\n",
              "    </tr>\n",
              "  </thead>\n",
              "  <tbody>\n",
              "    <tr>\n",
              "      <th>0</th>\n",
              "      <td>1.0</td>\n",
              "      <td>0.0</td>\n",
              "      <td>0.0</td>\n",
              "      <td>0.0</td>\n",
              "      <td>0.0</td>\n",
              "      <td>0.0</td>\n",
              "      <td>1.0</td>\n",
              "      <td>0.0</td>\n",
              "      <td>0.0</td>\n",
              "      <td>1.0</td>\n",
              "      <td>0.0</td>\n",
              "      <td>0.0</td>\n",
              "      <td>0.0</td>\n",
              "    </tr>\n",
              "    <tr>\n",
              "      <th>1</th>\n",
              "      <td>0.0</td>\n",
              "      <td>0.0</td>\n",
              "      <td>1.0</td>\n",
              "      <td>0.0</td>\n",
              "      <td>0.0</td>\n",
              "      <td>0.0</td>\n",
              "      <td>0.0</td>\n",
              "      <td>1.0</td>\n",
              "      <td>0.0</td>\n",
              "      <td>1.0</td>\n",
              "      <td>0.0</td>\n",
              "      <td>0.0</td>\n",
              "      <td>0.0</td>\n",
              "    </tr>\n",
              "    <tr>\n",
              "      <th>2</th>\n",
              "      <td>0.0</td>\n",
              "      <td>0.0</td>\n",
              "      <td>1.0</td>\n",
              "      <td>0.0</td>\n",
              "      <td>0.0</td>\n",
              "      <td>0.0</td>\n",
              "      <td>1.0</td>\n",
              "      <td>0.0</td>\n",
              "      <td>0.0</td>\n",
              "      <td>1.0</td>\n",
              "      <td>0.0</td>\n",
              "      <td>0.0</td>\n",
              "      <td>0.0</td>\n",
              "    </tr>\n",
              "    <tr>\n",
              "      <th>3</th>\n",
              "      <td>0.0</td>\n",
              "      <td>0.0</td>\n",
              "      <td>1.0</td>\n",
              "      <td>0.0</td>\n",
              "      <td>0.0</td>\n",
              "      <td>0.0</td>\n",
              "      <td>1.0</td>\n",
              "      <td>0.0</td>\n",
              "      <td>0.0</td>\n",
              "      <td>1.0</td>\n",
              "      <td>0.0</td>\n",
              "      <td>0.0</td>\n",
              "      <td>0.0</td>\n",
              "    </tr>\n",
              "    <tr>\n",
              "      <th>4</th>\n",
              "      <td>0.0</td>\n",
              "      <td>1.0</td>\n",
              "      <td>0.0</td>\n",
              "      <td>0.0</td>\n",
              "      <td>0.0</td>\n",
              "      <td>0.0</td>\n",
              "      <td>0.0</td>\n",
              "      <td>1.0</td>\n",
              "      <td>0.0</td>\n",
              "      <td>1.0</td>\n",
              "      <td>0.0</td>\n",
              "      <td>0.0</td>\n",
              "      <td>0.0</td>\n",
              "    </tr>\n",
              "  </tbody>\n",
              "</table>\n",
              "</div>\n",
              "      <button class=\"colab-df-convert\" onclick=\"convertToInteractive('df-9a8abc89-980c-400a-a647-75beb3da2242')\"\n",
              "              title=\"Convert this dataframe to an interactive table.\"\n",
              "              style=\"display:none;\">\n",
              "        \n",
              "  <svg xmlns=\"http://www.w3.org/2000/svg\" height=\"24px\"viewBox=\"0 0 24 24\"\n",
              "       width=\"24px\">\n",
              "    <path d=\"M0 0h24v24H0V0z\" fill=\"none\"/>\n",
              "    <path d=\"M18.56 5.44l.94 2.06.94-2.06 2.06-.94-2.06-.94-.94-2.06-.94 2.06-2.06.94zm-11 1L8.5 8.5l.94-2.06 2.06-.94-2.06-.94L8.5 2.5l-.94 2.06-2.06.94zm10 10l.94 2.06.94-2.06 2.06-.94-2.06-.94-.94-2.06-.94 2.06-2.06.94z\"/><path d=\"M17.41 7.96l-1.37-1.37c-.4-.4-.92-.59-1.43-.59-.52 0-1.04.2-1.43.59L10.3 9.45l-7.72 7.72c-.78.78-.78 2.05 0 2.83L4 21.41c.39.39.9.59 1.41.59.51 0 1.02-.2 1.41-.59l7.78-7.78 2.81-2.81c.8-.78.8-2.07 0-2.86zM5.41 20L4 18.59l7.72-7.72 1.47 1.35L5.41 20z\"/>\n",
              "  </svg>\n",
              "      </button>\n",
              "      \n",
              "  <style>\n",
              "    .colab-df-container {\n",
              "      display:flex;\n",
              "      flex-wrap:wrap;\n",
              "      gap: 12px;\n",
              "    }\n",
              "\n",
              "    .colab-df-convert {\n",
              "      background-color: #E8F0FE;\n",
              "      border: none;\n",
              "      border-radius: 50%;\n",
              "      cursor: pointer;\n",
              "      display: none;\n",
              "      fill: #1967D2;\n",
              "      height: 32px;\n",
              "      padding: 0 0 0 0;\n",
              "      width: 32px;\n",
              "    }\n",
              "\n",
              "    .colab-df-convert:hover {\n",
              "      background-color: #E2EBFA;\n",
              "      box-shadow: 0px 1px 2px rgba(60, 64, 67, 0.3), 0px 1px 3px 1px rgba(60, 64, 67, 0.15);\n",
              "      fill: #174EA6;\n",
              "    }\n",
              "\n",
              "    [theme=dark] .colab-df-convert {\n",
              "      background-color: #3B4455;\n",
              "      fill: #D2E3FC;\n",
              "    }\n",
              "\n",
              "    [theme=dark] .colab-df-convert:hover {\n",
              "      background-color: #434B5C;\n",
              "      box-shadow: 0px 1px 3px 1px rgba(0, 0, 0, 0.15);\n",
              "      filter: drop-shadow(0px 1px 2px rgba(0, 0, 0, 0.3));\n",
              "      fill: #FFFFFF;\n",
              "    }\n",
              "  </style>\n",
              "\n",
              "      <script>\n",
              "        const buttonEl =\n",
              "          document.querySelector('#df-9a8abc89-980c-400a-a647-75beb3da2242 button.colab-df-convert');\n",
              "        buttonEl.style.display =\n",
              "          google.colab.kernel.accessAllowed ? 'block' : 'none';\n",
              "\n",
              "        async function convertToInteractive(key) {\n",
              "          const element = document.querySelector('#df-9a8abc89-980c-400a-a647-75beb3da2242');\n",
              "          const dataTable =\n",
              "            await google.colab.kernel.invokeFunction('convertToInteractive',\n",
              "                                                     [key], {});\n",
              "          if (!dataTable) return;\n",
              "\n",
              "          const docLinkHtml = 'Like what you see? Visit the ' +\n",
              "            '<a target=\"_blank\" href=https://colab.research.google.com/notebooks/data_table.ipynb>data table notebook</a>'\n",
              "            + ' to learn more about interactive tables.';\n",
              "          element.innerHTML = '';\n",
              "          dataTable['output_type'] = 'display_data';\n",
              "          await google.colab.output.renderOutput(dataTable, element);\n",
              "          const docLink = document.createElement('div');\n",
              "          docLink.innerHTML = docLinkHtml;\n",
              "          element.appendChild(docLink);\n",
              "        }\n",
              "      </script>\n",
              "    </div>\n",
              "  </div>\n",
              "  "
            ]
          },
          "metadata": {},
          "execution_count": 37
        }
      ]
    },
    {
      "cell_type": "code",
      "source": [
        "w2v_test[test_upd.columns] = test_upd[test_upd.columns].reset_index(drop=True)\n",
        "w2v_test.head()"
      ],
      "metadata": {
        "colab": {
          "base_uri": "https://localhost:8080/",
          "height": 317
        },
        "id": "n-uRqlCJiGjV",
        "outputId": "17688bb9-b48c-4a6d-df03-2c5b571a1729"
      },
      "execution_count": 38,
      "outputs": [
        {
          "output_type": "execute_result",
          "data": {
            "text/plain": [
              "          0         1         2         3         4         5         6  \\\n",
              "0 -0.003738  0.010985  0.004887  0.002376  0.003956 -0.004477  0.001485   \n",
              "1  0.000000  0.000000  0.000000  0.000000  0.000000  0.000000  0.000000   \n",
              "2  0.000017  0.001176  0.001055  0.000924  0.000740 -0.000727  0.000224   \n",
              "3  0.000026  0.000151  0.001626  0.001532  0.000201  0.001609  0.000011   \n",
              "4  0.000017  0.002865  0.001971  0.002387 -0.000125 -0.001294 -0.000012   \n",
              "\n",
              "          7         8         9  ...  Более 6 лет  Полный день  \\\n",
              "0  0.002532 -0.002982 -0.004552  ...          0.0          0.0   \n",
              "1  0.000000  0.000000  0.000000  ...          0.0          0.0   \n",
              "2  0.000272 -0.000086 -0.000595  ...          0.0          0.0   \n",
              "3  0.000221 -0.000149  0.002145  ...          0.0          0.0   \n",
              "4 -0.001504 -0.000433  0.002490  ...          0.0          0.0   \n",
              "\n",
              "   Сменный график  Гибкий график  Вахтовый метод  Удаленная работа  \\\n",
              "0             0.0            1.0             0.0               0.0   \n",
              "1             0.0            0.0             1.0               0.0   \n",
              "2             0.0            1.0             0.0               0.0   \n",
              "3             0.0            1.0             0.0               0.0   \n",
              "4             0.0            0.0             1.0               0.0   \n",
              "\n",
              "   Полная занятость  Частичная занятость  Проектная работа  Стажировка  \n",
              "0               1.0                  0.0               0.0         0.0  \n",
              "1               1.0                  0.0               0.0         0.0  \n",
              "2               1.0                  0.0               0.0         0.0  \n",
              "3               1.0                  0.0               0.0         0.0  \n",
              "4               1.0                  0.0               0.0         0.0  \n",
              "\n",
              "[5 rows x 313 columns]"
            ],
            "text/html": [
              "\n",
              "  <div id=\"df-2a65bb28-9dd9-47cb-bd92-00767a695e9c\">\n",
              "    <div class=\"colab-df-container\">\n",
              "      <div>\n",
              "<style scoped>\n",
              "    .dataframe tbody tr th:only-of-type {\n",
              "        vertical-align: middle;\n",
              "    }\n",
              "\n",
              "    .dataframe tbody tr th {\n",
              "        vertical-align: top;\n",
              "    }\n",
              "\n",
              "    .dataframe thead th {\n",
              "        text-align: right;\n",
              "    }\n",
              "</style>\n",
              "<table border=\"1\" class=\"dataframe\">\n",
              "  <thead>\n",
              "    <tr style=\"text-align: right;\">\n",
              "      <th></th>\n",
              "      <th>0</th>\n",
              "      <th>1</th>\n",
              "      <th>2</th>\n",
              "      <th>3</th>\n",
              "      <th>4</th>\n",
              "      <th>5</th>\n",
              "      <th>6</th>\n",
              "      <th>7</th>\n",
              "      <th>8</th>\n",
              "      <th>9</th>\n",
              "      <th>...</th>\n",
              "      <th>Более 6 лет</th>\n",
              "      <th>Полный день</th>\n",
              "      <th>Сменный график</th>\n",
              "      <th>Гибкий график</th>\n",
              "      <th>Вахтовый метод</th>\n",
              "      <th>Удаленная работа</th>\n",
              "      <th>Полная занятость</th>\n",
              "      <th>Частичная занятость</th>\n",
              "      <th>Проектная работа</th>\n",
              "      <th>Стажировка</th>\n",
              "    </tr>\n",
              "  </thead>\n",
              "  <tbody>\n",
              "    <tr>\n",
              "      <th>0</th>\n",
              "      <td>-0.003738</td>\n",
              "      <td>0.010985</td>\n",
              "      <td>0.004887</td>\n",
              "      <td>0.002376</td>\n",
              "      <td>0.003956</td>\n",
              "      <td>-0.004477</td>\n",
              "      <td>0.001485</td>\n",
              "      <td>0.002532</td>\n",
              "      <td>-0.002982</td>\n",
              "      <td>-0.004552</td>\n",
              "      <td>...</td>\n",
              "      <td>0.0</td>\n",
              "      <td>0.0</td>\n",
              "      <td>0.0</td>\n",
              "      <td>1.0</td>\n",
              "      <td>0.0</td>\n",
              "      <td>0.0</td>\n",
              "      <td>1.0</td>\n",
              "      <td>0.0</td>\n",
              "      <td>0.0</td>\n",
              "      <td>0.0</td>\n",
              "    </tr>\n",
              "    <tr>\n",
              "      <th>1</th>\n",
              "      <td>0.000000</td>\n",
              "      <td>0.000000</td>\n",
              "      <td>0.000000</td>\n",
              "      <td>0.000000</td>\n",
              "      <td>0.000000</td>\n",
              "      <td>0.000000</td>\n",
              "      <td>0.000000</td>\n",
              "      <td>0.000000</td>\n",
              "      <td>0.000000</td>\n",
              "      <td>0.000000</td>\n",
              "      <td>...</td>\n",
              "      <td>0.0</td>\n",
              "      <td>0.0</td>\n",
              "      <td>0.0</td>\n",
              "      <td>0.0</td>\n",
              "      <td>1.0</td>\n",
              "      <td>0.0</td>\n",
              "      <td>1.0</td>\n",
              "      <td>0.0</td>\n",
              "      <td>0.0</td>\n",
              "      <td>0.0</td>\n",
              "    </tr>\n",
              "    <tr>\n",
              "      <th>2</th>\n",
              "      <td>0.000017</td>\n",
              "      <td>0.001176</td>\n",
              "      <td>0.001055</td>\n",
              "      <td>0.000924</td>\n",
              "      <td>0.000740</td>\n",
              "      <td>-0.000727</td>\n",
              "      <td>0.000224</td>\n",
              "      <td>0.000272</td>\n",
              "      <td>-0.000086</td>\n",
              "      <td>-0.000595</td>\n",
              "      <td>...</td>\n",
              "      <td>0.0</td>\n",
              "      <td>0.0</td>\n",
              "      <td>0.0</td>\n",
              "      <td>1.0</td>\n",
              "      <td>0.0</td>\n",
              "      <td>0.0</td>\n",
              "      <td>1.0</td>\n",
              "      <td>0.0</td>\n",
              "      <td>0.0</td>\n",
              "      <td>0.0</td>\n",
              "    </tr>\n",
              "    <tr>\n",
              "      <th>3</th>\n",
              "      <td>0.000026</td>\n",
              "      <td>0.000151</td>\n",
              "      <td>0.001626</td>\n",
              "      <td>0.001532</td>\n",
              "      <td>0.000201</td>\n",
              "      <td>0.001609</td>\n",
              "      <td>0.000011</td>\n",
              "      <td>0.000221</td>\n",
              "      <td>-0.000149</td>\n",
              "      <td>0.002145</td>\n",
              "      <td>...</td>\n",
              "      <td>0.0</td>\n",
              "      <td>0.0</td>\n",
              "      <td>0.0</td>\n",
              "      <td>1.0</td>\n",
              "      <td>0.0</td>\n",
              "      <td>0.0</td>\n",
              "      <td>1.0</td>\n",
              "      <td>0.0</td>\n",
              "      <td>0.0</td>\n",
              "      <td>0.0</td>\n",
              "    </tr>\n",
              "    <tr>\n",
              "      <th>4</th>\n",
              "      <td>0.000017</td>\n",
              "      <td>0.002865</td>\n",
              "      <td>0.001971</td>\n",
              "      <td>0.002387</td>\n",
              "      <td>-0.000125</td>\n",
              "      <td>-0.001294</td>\n",
              "      <td>-0.000012</td>\n",
              "      <td>-0.001504</td>\n",
              "      <td>-0.000433</td>\n",
              "      <td>0.002490</td>\n",
              "      <td>...</td>\n",
              "      <td>0.0</td>\n",
              "      <td>0.0</td>\n",
              "      <td>0.0</td>\n",
              "      <td>0.0</td>\n",
              "      <td>1.0</td>\n",
              "      <td>0.0</td>\n",
              "      <td>1.0</td>\n",
              "      <td>0.0</td>\n",
              "      <td>0.0</td>\n",
              "      <td>0.0</td>\n",
              "    </tr>\n",
              "  </tbody>\n",
              "</table>\n",
              "<p>5 rows × 313 columns</p>\n",
              "</div>\n",
              "      <button class=\"colab-df-convert\" onclick=\"convertToInteractive('df-2a65bb28-9dd9-47cb-bd92-00767a695e9c')\"\n",
              "              title=\"Convert this dataframe to an interactive table.\"\n",
              "              style=\"display:none;\">\n",
              "        \n",
              "  <svg xmlns=\"http://www.w3.org/2000/svg\" height=\"24px\"viewBox=\"0 0 24 24\"\n",
              "       width=\"24px\">\n",
              "    <path d=\"M0 0h24v24H0V0z\" fill=\"none\"/>\n",
              "    <path d=\"M18.56 5.44l.94 2.06.94-2.06 2.06-.94-2.06-.94-.94-2.06-.94 2.06-2.06.94zm-11 1L8.5 8.5l.94-2.06 2.06-.94-2.06-.94L8.5 2.5l-.94 2.06-2.06.94zm10 10l.94 2.06.94-2.06 2.06-.94-2.06-.94-.94-2.06-.94 2.06-2.06.94z\"/><path d=\"M17.41 7.96l-1.37-1.37c-.4-.4-.92-.59-1.43-.59-.52 0-1.04.2-1.43.59L10.3 9.45l-7.72 7.72c-.78.78-.78 2.05 0 2.83L4 21.41c.39.39.9.59 1.41.59.51 0 1.02-.2 1.41-.59l7.78-7.78 2.81-2.81c.8-.78.8-2.07 0-2.86zM5.41 20L4 18.59l7.72-7.72 1.47 1.35L5.41 20z\"/>\n",
              "  </svg>\n",
              "      </button>\n",
              "      \n",
              "  <style>\n",
              "    .colab-df-container {\n",
              "      display:flex;\n",
              "      flex-wrap:wrap;\n",
              "      gap: 12px;\n",
              "    }\n",
              "\n",
              "    .colab-df-convert {\n",
              "      background-color: #E8F0FE;\n",
              "      border: none;\n",
              "      border-radius: 50%;\n",
              "      cursor: pointer;\n",
              "      display: none;\n",
              "      fill: #1967D2;\n",
              "      height: 32px;\n",
              "      padding: 0 0 0 0;\n",
              "      width: 32px;\n",
              "    }\n",
              "\n",
              "    .colab-df-convert:hover {\n",
              "      background-color: #E2EBFA;\n",
              "      box-shadow: 0px 1px 2px rgba(60, 64, 67, 0.3), 0px 1px 3px 1px rgba(60, 64, 67, 0.15);\n",
              "      fill: #174EA6;\n",
              "    }\n",
              "\n",
              "    [theme=dark] .colab-df-convert {\n",
              "      background-color: #3B4455;\n",
              "      fill: #D2E3FC;\n",
              "    }\n",
              "\n",
              "    [theme=dark] .colab-df-convert:hover {\n",
              "      background-color: #434B5C;\n",
              "      box-shadow: 0px 1px 3px 1px rgba(0, 0, 0, 0.15);\n",
              "      filter: drop-shadow(0px 1px 2px rgba(0, 0, 0, 0.3));\n",
              "      fill: #FFFFFF;\n",
              "    }\n",
              "  </style>\n",
              "\n",
              "      <script>\n",
              "        const buttonEl =\n",
              "          document.querySelector('#df-2a65bb28-9dd9-47cb-bd92-00767a695e9c button.colab-df-convert');\n",
              "        buttonEl.style.display =\n",
              "          google.colab.kernel.accessAllowed ? 'block' : 'none';\n",
              "\n",
              "        async function convertToInteractive(key) {\n",
              "          const element = document.querySelector('#df-2a65bb28-9dd9-47cb-bd92-00767a695e9c');\n",
              "          const dataTable =\n",
              "            await google.colab.kernel.invokeFunction('convertToInteractive',\n",
              "                                                     [key], {});\n",
              "          if (!dataTable) return;\n",
              "\n",
              "          const docLinkHtml = 'Like what you see? Visit the ' +\n",
              "            '<a target=\"_blank\" href=https://colab.research.google.com/notebooks/data_table.ipynb>data table notebook</a>'\n",
              "            + ' to learn more about interactive tables.';\n",
              "          element.innerHTML = '';\n",
              "          dataTable['output_type'] = 'display_data';\n",
              "          await google.colab.output.renderOutput(dataTable, element);\n",
              "          const docLink = document.createElement('div');\n",
              "          docLink.innerHTML = docLinkHtml;\n",
              "          element.appendChild(docLink);\n",
              "        }\n",
              "      </script>\n",
              "    </div>\n",
              "  </div>\n",
              "  "
            ]
          },
          "metadata": {},
          "execution_count": 38
        }
      ]
    },
    {
      "cell_type": "code",
      "source": [
        "xgb_pred = xgb.predict(w2v_test)"
      ],
      "metadata": {
        "id": "GVp6kVBlhqI2"
      },
      "execution_count": 39,
      "outputs": []
    },
    {
      "cell_type": "code",
      "source": [
        "lgb_pred = lgbm.predict(w2v_test)"
      ],
      "metadata": {
        "id": "CbUNxgLhhtq8"
      },
      "execution_count": 40,
      "outputs": []
    },
    {
      "cell_type": "code",
      "source": [
        "cat_preds = model.predict(cleaned_test.rename({'clean_text': 'clean_description'}, axis=1))"
      ],
      "metadata": {
        "id": "d1jNhyyp032N"
      },
      "execution_count": 43,
      "outputs": []
    },
    {
      "cell_type": "code",
      "source": [
        "preds = (xgb_pred + lgb_pred + cat_preds)/3"
      ],
      "metadata": {
        "id": "GcRLfKtF4sy0"
      },
      "execution_count": 44,
      "outputs": []
    },
    {
      "cell_type": "code",
      "source": [
        "subm = test.drop(['name', 'key_skills', 'description','experience','schedule','employment', 'text', 'clean_text'], axis=1)"
      ],
      "metadata": {
        "id": "1LAuBzFR1Vkz"
      },
      "execution_count": 45,
      "outputs": []
    },
    {
      "cell_type": "code",
      "source": [
        "subm['salary'] = preds"
      ],
      "metadata": {
        "id": "OwXCnq--2e69"
      },
      "execution_count": 46,
      "outputs": []
    },
    {
      "cell_type": "code",
      "source": [
        "subm.head()"
      ],
      "metadata": {
        "colab": {
          "base_uri": "https://localhost:8080/",
          "height": 206
        },
        "id": "chJZpX5-23ig",
        "outputId": "c63647f1-f3c2-4932-836f-dfc83eda67fe"
      },
      "execution_count": 47,
      "outputs": [
        {
          "output_type": "execute_result",
          "data": {
            "text/plain": [
              "   id        salary\n",
              "0   0  70136.560173\n",
              "1   1  46641.536609\n",
              "2   2  57560.405571\n",
              "3   3  55215.678761\n",
              "4   4  34018.842147"
            ],
            "text/html": [
              "\n",
              "  <div id=\"df-7c10cea6-f4ec-4d4a-a615-9cb806ebebdd\">\n",
              "    <div class=\"colab-df-container\">\n",
              "      <div>\n",
              "<style scoped>\n",
              "    .dataframe tbody tr th:only-of-type {\n",
              "        vertical-align: middle;\n",
              "    }\n",
              "\n",
              "    .dataframe tbody tr th {\n",
              "        vertical-align: top;\n",
              "    }\n",
              "\n",
              "    .dataframe thead th {\n",
              "        text-align: right;\n",
              "    }\n",
              "</style>\n",
              "<table border=\"1\" class=\"dataframe\">\n",
              "  <thead>\n",
              "    <tr style=\"text-align: right;\">\n",
              "      <th></th>\n",
              "      <th>id</th>\n",
              "      <th>salary</th>\n",
              "    </tr>\n",
              "  </thead>\n",
              "  <tbody>\n",
              "    <tr>\n",
              "      <th>0</th>\n",
              "      <td>0</td>\n",
              "      <td>70136.560173</td>\n",
              "    </tr>\n",
              "    <tr>\n",
              "      <th>1</th>\n",
              "      <td>1</td>\n",
              "      <td>46641.536609</td>\n",
              "    </tr>\n",
              "    <tr>\n",
              "      <th>2</th>\n",
              "      <td>2</td>\n",
              "      <td>57560.405571</td>\n",
              "    </tr>\n",
              "    <tr>\n",
              "      <th>3</th>\n",
              "      <td>3</td>\n",
              "      <td>55215.678761</td>\n",
              "    </tr>\n",
              "    <tr>\n",
              "      <th>4</th>\n",
              "      <td>4</td>\n",
              "      <td>34018.842147</td>\n",
              "    </tr>\n",
              "  </tbody>\n",
              "</table>\n",
              "</div>\n",
              "      <button class=\"colab-df-convert\" onclick=\"convertToInteractive('df-7c10cea6-f4ec-4d4a-a615-9cb806ebebdd')\"\n",
              "              title=\"Convert this dataframe to an interactive table.\"\n",
              "              style=\"display:none;\">\n",
              "        \n",
              "  <svg xmlns=\"http://www.w3.org/2000/svg\" height=\"24px\"viewBox=\"0 0 24 24\"\n",
              "       width=\"24px\">\n",
              "    <path d=\"M0 0h24v24H0V0z\" fill=\"none\"/>\n",
              "    <path d=\"M18.56 5.44l.94 2.06.94-2.06 2.06-.94-2.06-.94-.94-2.06-.94 2.06-2.06.94zm-11 1L8.5 8.5l.94-2.06 2.06-.94-2.06-.94L8.5 2.5l-.94 2.06-2.06.94zm10 10l.94 2.06.94-2.06 2.06-.94-2.06-.94-.94-2.06-.94 2.06-2.06.94z\"/><path d=\"M17.41 7.96l-1.37-1.37c-.4-.4-.92-.59-1.43-.59-.52 0-1.04.2-1.43.59L10.3 9.45l-7.72 7.72c-.78.78-.78 2.05 0 2.83L4 21.41c.39.39.9.59 1.41.59.51 0 1.02-.2 1.41-.59l7.78-7.78 2.81-2.81c.8-.78.8-2.07 0-2.86zM5.41 20L4 18.59l7.72-7.72 1.47 1.35L5.41 20z\"/>\n",
              "  </svg>\n",
              "      </button>\n",
              "      \n",
              "  <style>\n",
              "    .colab-df-container {\n",
              "      display:flex;\n",
              "      flex-wrap:wrap;\n",
              "      gap: 12px;\n",
              "    }\n",
              "\n",
              "    .colab-df-convert {\n",
              "      background-color: #E8F0FE;\n",
              "      border: none;\n",
              "      border-radius: 50%;\n",
              "      cursor: pointer;\n",
              "      display: none;\n",
              "      fill: #1967D2;\n",
              "      height: 32px;\n",
              "      padding: 0 0 0 0;\n",
              "      width: 32px;\n",
              "    }\n",
              "\n",
              "    .colab-df-convert:hover {\n",
              "      background-color: #E2EBFA;\n",
              "      box-shadow: 0px 1px 2px rgba(60, 64, 67, 0.3), 0px 1px 3px 1px rgba(60, 64, 67, 0.15);\n",
              "      fill: #174EA6;\n",
              "    }\n",
              "\n",
              "    [theme=dark] .colab-df-convert {\n",
              "      background-color: #3B4455;\n",
              "      fill: #D2E3FC;\n",
              "    }\n",
              "\n",
              "    [theme=dark] .colab-df-convert:hover {\n",
              "      background-color: #434B5C;\n",
              "      box-shadow: 0px 1px 3px 1px rgba(0, 0, 0, 0.15);\n",
              "      filter: drop-shadow(0px 1px 2px rgba(0, 0, 0, 0.3));\n",
              "      fill: #FFFFFF;\n",
              "    }\n",
              "  </style>\n",
              "\n",
              "      <script>\n",
              "        const buttonEl =\n",
              "          document.querySelector('#df-7c10cea6-f4ec-4d4a-a615-9cb806ebebdd button.colab-df-convert');\n",
              "        buttonEl.style.display =\n",
              "          google.colab.kernel.accessAllowed ? 'block' : 'none';\n",
              "\n",
              "        async function convertToInteractive(key) {\n",
              "          const element = document.querySelector('#df-7c10cea6-f4ec-4d4a-a615-9cb806ebebdd');\n",
              "          const dataTable =\n",
              "            await google.colab.kernel.invokeFunction('convertToInteractive',\n",
              "                                                     [key], {});\n",
              "          if (!dataTable) return;\n",
              "\n",
              "          const docLinkHtml = 'Like what you see? Visit the ' +\n",
              "            '<a target=\"_blank\" href=https://colab.research.google.com/notebooks/data_table.ipynb>data table notebook</a>'\n",
              "            + ' to learn more about interactive tables.';\n",
              "          element.innerHTML = '';\n",
              "          dataTable['output_type'] = 'display_data';\n",
              "          await google.colab.output.renderOutput(dataTable, element);\n",
              "          const docLink = document.createElement('div');\n",
              "          docLink.innerHTML = docLinkHtml;\n",
              "          element.appendChild(docLink);\n",
              "        }\n",
              "      </script>\n",
              "    </div>\n",
              "  </div>\n",
              "  "
            ]
          },
          "metadata": {},
          "execution_count": 47
        }
      ]
    },
    {
      "cell_type": "code",
      "source": [
        "subm.to_csv('vacancies_subm.csv', index=False)"
      ],
      "metadata": {
        "id": "XZ4K0qBG2_M0"
      },
      "execution_count": 48,
      "outputs": []
    },
    {
      "cell_type": "code",
      "source": [],
      "metadata": {
        "id": "ceU-rDeK3Ea8"
      },
      "execution_count": null,
      "outputs": []
    }
  ]
}